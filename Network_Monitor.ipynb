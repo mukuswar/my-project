{
  "nbformat": 4,
  "nbformat_minor": 0,
  "metadata": {
    "colab": {
      "name": "Network_Monitor.ipynb",
      "provenance": [],
      "authorship_tag": "ABX9TyPhDKqFadH+VfRHL0rxJVSA",
      "include_colab_link": true
    },
    "kernelspec": {
      "name": "python3",
      "display_name": "Python 3"
    }
  },
  "cells": [
    {
      "cell_type": "markdown",
      "metadata": {
        "id": "view-in-github",
        "colab_type": "text"
      },
      "source": [
        "<a href=\"https://colab.research.google.com/github/mukuswar/my-project/blob/master/Network_Monitor.ipynb\" target=\"_parent\"><img src=\"https://colab.research.google.com/assets/colab-badge.svg\" alt=\"Open In Colab\"/></a>"
      ]
    },
    {
      "cell_type": "code",
      "metadata": {
        "id": "BFq0KeV4soeY",
        "colab_type": "code",
        "colab": {}
      },
      "source": [
        "import time\n",
        "\n",
        "def transmissionrate(dev, direction, timestep):\n",
        "    \"\"\"Return the transmisson rate of a interface under linux\n",
        "    dev: devicename\n",
        "    direction: rx (received) or tx (sended)\n",
        "    timestep: time to measure in seconds\n",
        "    \"\"\"\n",
        "    path = \"/sys/class/net/{}/statistics/{}_bytes\".format(dev, direction)\n",
        "    f = open(path, \"r\")\n",
        "    bytes_before = int(f.read())\n",
        "    f.close()\n",
        "    time.sleep(timestep)\n",
        "    f = open(path, \"r\")\n",
        "    bytes_after = int(f.read())\n",
        "    f.close()\n",
        "    return (bytes_after-bytes_before)/timestep\n",
        "\n",
        "devname = \"enp0s3\"\n",
        "timestep = 2 # Seconds\n",
        "print(transmissionrate(devname, \"rx\", timestep))\n"
      ],
      "execution_count": 0,
      "outputs": []
    },
    {
      "cell_type": "markdown",
      "metadata": {
        "id": "kUTQOYswRoX3",
        "colab_type": "text"
      },
      "source": [
        ""
      ]
    },
    {
      "cell_type": "markdown",
      "metadata": {
        "id": "Xu5Pnf4lPbWJ",
        "colab_type": "text"
      },
      "source": [
        "# New Section"
      ]
    },
    {
      "cell_type": "markdown",
      "metadata": {
        "id": "6uibj9l3PcAr",
        "colab_type": "text"
      },
      "source": [
        "# New Section"
      ]
    }
  ]
}