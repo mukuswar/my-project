{
  "nbformat": 4,
  "nbformat_minor": 0,
  "metadata": {
    "colab": {
      "name": "Practice01.ipynb",
      "provenance": [],
      "authorship_tag": "ABX9TyN90AVIqz6xUJSbutDJn5ep",
      "include_colab_link": true
    },
    "kernelspec": {
      "name": "python3",
      "display_name": "Python 3"
    }
  },
  "cells": [
    {
      "cell_type": "markdown",
      "metadata": {
        "id": "view-in-github",
        "colab_type": "text"
      },
      "source": [
        "<a href=\"https://colab.research.google.com/github/mukuswar/my-project/blob/master/Practice01.ipynb\" target=\"_parent\"><img src=\"https://colab.research.google.com/assets/colab-badge.svg\" alt=\"Open In Colab\"/></a>"
      ]
    },
    {
      "cell_type": "code",
      "metadata": {
        "id": "BFq0KeV4soeY",
        "colab_type": "code",
        "colab": {
          "base_uri": "https://localhost:8080/",
          "height": 84
        },
        "outputId": "c6f24560-78b0-41e2-d56f-893957a69664"
      },
      "source": [
        "import random\n",
        "baller = random.randint(1,6)\n",
        "batter = int(input(\"Enter your entry\"))\n",
        "side = input(\"Enter your side\")\n",
        "if batter <= 6 and (side == \"left\" or side == \"right\" or side == \"front\"):\n",
        "  if (baller == batter) and (side != \"left\"):\n",
        "    print(\"You are out\")\n",
        "  else:\n",
        "    print(\"You scored\")\n",
        "else:\n",
        "  print(\"Only 1-6 allowd here and side left/right/front\")\n",
        "\n",
        "print(baller)\n",
        "\n"
      ],
      "execution_count": 24,
      "outputs": [
        {
          "output_type": "stream",
          "text": [
            "Enter your entry5\n",
            "Enter your sideright\n",
            "You scored\n",
            "3\n"
          ],
          "name": "stdout"
        }
      ]
    },
    {
      "cell_type": "markdown",
      "metadata": {
        "id": "Xu5Pnf4lPbWJ",
        "colab_type": "text"
      },
      "source": [
        "# New Section"
      ]
    },
    {
      "cell_type": "markdown",
      "metadata": {
        "id": "6uibj9l3PcAr",
        "colab_type": "text"
      },
      "source": [
        "# New Section"
      ]
    }
  ]
}